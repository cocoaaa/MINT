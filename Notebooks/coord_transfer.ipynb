{
 "cells": [
  {
   "cell_type": "markdown",
   "metadata": {},
   "source": [
    "Resources:\n",
    "- [1](https://rdrr.io/rforge/RgoogleMaps/src/R/GetBingMap.R)\n",
    "- [2]()"
   ]
  },
  {
   "cell_type": "code",
   "execution_count": 1,
   "metadata": {},
   "outputs": [],
   "source": [
    "import math\n",
    "from decimal import Decimal"
   ]
  },
  {
   "cell_type": "code",
   "execution_count": 17,
   "metadata": {},
   "outputs": [],
   "source": [
    "def geo2tile(lat, long, zoom):\n",
    "    \"\"\"\n",
    "    Given latitude and longitude in degrees (WGS84), and the level of detail,\n",
    "    return the pixel XY coordinates. \n",
    "    Args\n",
    "    :type : float, float, int\n",
    "    - lat must be clipped to (-85.05112878, 85.05112878)\n",
    "    - long must be in [-180,+180]\n",
    "    \n",
    "    :rtype: tuple(int, int, int)\n",
    "    \"\"\"\n",
    "    if lat <= -85.05112878:\n",
    "        print(\"Lat is out of lowerbound. Clipped to -85.05112878\")\n",
    "    elif lat >= 85.05112878:\n",
    "        print(\"Lat is out of upperbound. Clipped to +85.05112878\")\n",
    "\n",
    "    assert(long >= -180 and long <= 180)\n",
    "    \n",
    "    sinLatitude = math.sin(lat * math.pi/180)\n",
    "    pixelX = ((long + 180) / 360) * 256 * 2**zoom\n",
    "    pixelY = (0.5 - math.log((1+sinLatitude) / (1-sinLatitude)) / (4*math.pi)) * 256 * 2 **zoom\n",
    "    tileX = math.floor(pixelX / 256)\n",
    "    tileY = math.floor(pixelY / 256)\n",
    "    \n",
    "def getQuadkey(tileX, tileY):\n",
    "    \"\"\"\n",
    "    Given the tile XY coordinates, return a string of quadtree key\n",
    "    :type : int, int\n",
    "    :rtype: str\n",
    "    \"\"\"\n",
    "    binX = str(bin(tileX))[2:]\n",
    "    binY = str(bin(tileY))[2:]\n",
    "    width = max(len(binX), len(binY))\n",
    "    binX = binX.zfill(width)\n",
    "    binY = binY.zfill(width)\n",
    "    quadkey = \"\".join([y+x for (y,x) in zip(binY, binX)])\n",
    "    print(binX, binY, quadkey)\n",
    "    return quadkey"
   ]
  },
  {
   "cell_type": "code",
   "execution_count": 19,
   "metadata": {},
   "outputs": [
    {
     "name": "stdout",
     "output_type": "stream",
     "text": [
      "('10000', '00010', '0100001000')\n"
     ]
    }
   ],
   "source": [
    "def test1_getQuadkey():\n",
    "    x = 10\n",
    "    y = 10\n",
    "    quadkey = getQuadkey(x,y)\n",
    "    \n",
    "def test2_getQuadkey():\n",
    "    x = 16\n",
    "    y = 2\n",
    "    quadkey = getQuadkey(x,y)\n",
    "    \n",
    "test2_getQuadkey()"
   ]
  },
  {
   "cell_type": "code",
   "execution_count": 21,
   "metadata": {},
   "outputs": [],
   "source": [
    "bingURL = \"http://dev.virtualearth.net/REST/v1/Imagery/Map/\"#+ maptype +\"/\"\n",
    "apiKey = \"AonP32WxpZZymnl7kMYzLzNhsrFCWNkxAdBrC-Di6cGZRrlG0IxUiVD-DM05jEri\"\n",
    "mapURL = bingURL+\"Road/47.619048,-122.35384/15?mapSize=640,640&key=\"+apiKey\n",
    "print(mapURL)"
   ]
  },
  {
   "cell_type": "code",
   "execution_count": 39,
   "metadata": {},
   "outputs": [],
   "source": [
    "subdomains = ['t0', 't1', 't2', 't3']\n",
    "quadkey = '000000'\n",
    "culture = 'en-US'\n",
    "urlDict = {'subdomain': 't0',\n",
    "           'quadkey': quadkey,\n",
    "           'culture': culture}"
   ]
  },
  {
   "cell_type": "code",
   "execution_count": 41,
   "metadata": {},
   "outputs": [
    {
     "name": "stdout",
     "output_type": "stream",
     "text": [
      "http://ecn.t0.tiles.virtualearth.net/tiles/r000000.jpeg?g=6659&mkt=en-US&shading=hill\n"
     ]
    }
   ],
   "source": [
    "imageURL = (\"http://ecn.{subdomain}.tiles.virtualearth.net/tiles/\"\n",
    "            \"r{quadkey}.jpeg?g=6659&mkt={culture}&shading=hill\").format(**urlDict)\n",
    "print(imageURL)"
   ]
  },
  {
   "cell_type": "code",
   "execution_count": 38,
   "metadata": {},
   "outputs": [],
   "source": [
    "('hi .  '  'hello .        ')\n",
    "a = {'hi':2}"
   ]
  },
  {
   "cell_type": "code",
   "execution_count": null,
   "metadata": {},
   "outputs": [],
   "source": [
    "def getTileFromGeo(lat, long, zoom):\n",
    "\t'''\n",
    "\tget tile index from geo location\n",
    "\t:type : float, float, int\n",
    "\t:rtype: tuple(int, int, int)\n",
    "\t'''\n",
    "\tx = math.floor((long + 180) / 360.0 * (2.0 ** zoom))\n",
    "\n",
    "\ttan_y = math.tan(lat * (math.pi / 180.0))\n",
    "\tcos_y = math.cos(lat * (math.pi / 180.0))\n",
    "\ty = math.floor( (1 - math.log(tan_y + 1.0 / cos_y) / math.pi) / 2.0 * (2.0 ** zoom) )\n",
    "\t\n",
    "\treturn int(x), int(y), int(zoom)\n",
    "\n",
    "\n",
    "def getGeoFromTile(x, y, zoom):\n",
    "\tlon_deg = x / (2.0 ** zoom) * 360.0 - 180.0\n",
    "\tlat_rad = math.atan(math.sinh(math.pi * (1 - 2 * y / (2.0 ** zoom))))\n",
    "\tlat_deg = lat_rad * (180.0 / math.pi)\n",
    "\treturn lat_deg, lon_deg\n",
    "\n",
    "\n",
    "if __name__ == \"__main__\":\n",
    "\tprint getGeoFromTile(32628, 20880, 16)\n",
    "\tprint getGeoFromTile(32628, 20881, 16)\n",
    "\tprint getGeoFromTile(32629, 20880, 16)\n",
    "\tprint getGeoFromTile(32629, 20881, 16)\n",
    "\t# x = 32628\n",
    "\t# y = 20880\n",
    "\t# z = 16\n",
    "\t# a, b = getGeoFromTile(x, y, z)\n",
    "\t# print a, b\n",
    "\t# a = 54.5178\n",
    "\t# b = -0.7690\n",
    "\t# print getTileFromGeo(a, b, z)"
   ]
  }
 ],
 "metadata": {
  "kernelspec": {
   "display_name": "Python 2",
   "language": "python",
   "name": "python2"
  },
  "language_info": {
   "codemirror_mode": {
    "name": "ipython",
    "version": 2
   },
   "file_extension": ".py",
   "mimetype": "text/x-python",
   "name": "python",
   "nbconvert_exporter": "python",
   "pygments_lexer": "ipython2",
   "version": "2.7.12"
  }
 },
 "nbformat": 4,
 "nbformat_minor": 2
}
